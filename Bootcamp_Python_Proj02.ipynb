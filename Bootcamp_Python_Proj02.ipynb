{
  "cells": [
    {
      "cell_type": "markdown",
      "metadata": {
        "id": "view-in-github",
        "colab_type": "text"
      },
      "source": [
        "<a href=\"https://colab.research.google.com/github/alvesbruno-ds/Bootcamp_Python/blob/main/Bootcamp_Python_Proj02.ipynb\" target=\"_parent\"><img src=\"https://colab.research.google.com/assets/colab-badge.svg\" alt=\"Open In Colab\"/></a>"
      ]
    },
    {
      "cell_type": "markdown",
      "metadata": {
        "id": "MXfLCgfmJ7P7"
      },
      "source": [
        "<center><img width=\"100%\" src=\"https://raw.githubusercontent.com/alves-bruno-ds/data-science-BR/main/Header%20-%20Dados.png\"></center>"
      ]
    },
    {
      "cell_type": "markdown",
      "metadata": {
        "id": "Uo0bK881G9iK"
      },
      "source": [
        "<div>\n",
        "  <a href = \"https://github.com/alves-bruno-ds/data-science-BR#readme\"><img src=\"https://img.shields.io/badge/GitHub-100000?style=for-the-badge&logo=github&logoColor=white\" target=\"_blank\"></a>\n",
        "  <a href=\"https://www.linkedin.com/in/bruno-alves-dos-santos-a7a92a26b/\" target=\"_blank\"><img src=\"https://img.shields.io/badge/-LinkedIn-%230077B5?style=for-the-badge&logo=linkedin&logoColor=white\" target=\"_blank\"></a>\n",
        "  <a href=\"https://www.instagram.com/cdados.br/\" target=\"_blank\"><img src=\"https://img.shields.io/badge/-Instagram-%23E4405F?style=for-the-badge&logo=instagram&logoColor=white\" target=\"_blank\"></a>\n",
        "  <a href=\"https://medium.com/@cdados.br\" target=\"_blank\"><img src=\"https://img.shields.io/badge/Medium-12100E?style=for-the-badge&logo=medium&logoColor=white\"></a>\n",
        "</div>\n"
      ]
    },
    {
      "cell_type": "markdown",
      "metadata": {
        "id": "k_MuC5fe86tn"
      },
      "source": [
        "# Bootcamp Python - Projeto 02\n",
        "## Relatórios - Extração de informações e automação de tarefas\n",
        "\n",
        "\n"
      ]
    },
    {
      "cell_type": "markdown",
      "metadata": {
        "id": "tOzU1YZ3K-kj"
      },
      "source": [
        "<center><img width=\"60%\" src=\"https://img.freepik.com/vetores-gratis/ilustracao-do-grafico-de-analise-de-dados_53876-18131.jpg?w=2000\"></center>\n",
        "<br/>\n",
        "<br/>"
      ]
    },
    {
      "cell_type": "markdown",
      "source": [
        "<center><img width=\"5%\" src=\"https://logodownload.org/wp-content/uploads/2019/10/python-logo.png\"></center>\n"
      ],
      "metadata": {
        "id": "ixhGqLno5Cok"
      }
    },
    {
      "cell_type": "markdown",
      "metadata": {
        "id": "GfK_aYnnLuO5"
      },
      "source": [
        "## Resumo\n",
        "\n",
        "O projeto teve como objetivo extrair e tratar dados arquivos em PDF, além de construir uma automação para leitura de vários arquivos.\n",
        "\n",
        "Bibliotecas utilizadas: **PDF Plumber** e **OS**"
      ]
    },
    {
      "cell_type": "markdown",
      "metadata": {
        "id": "GkegNkg_vSjF"
      },
      "source": [
        "## As bibliotecas\n",
        "\n",
        "**PDF Plumber** é uma biblioteca Python que permite aos usuários criar, ler, editar e converter arquivos PDF. É uma biblioteca poderosa e flexível que pode ser usada para uma variedade de tarefas, incluindo:\n",
        "\n",
        "* Criando novos arquivos PDF a partir de texto, imagens e outros dados.\n",
        "* Lendo o conteúdo de arquivos PDF e extraindo informações específicas.\n",
        "* Editando o conteúdo de arquivos PDF, como texto, imagens e cabeçalhos.\n",
        "* Convertendo arquivos PDF para outros formatos de arquivo, como texto simples, HTML e imagens.\n",
        "\n",
        "A biblioteca PDF Plumber é gratuita e de código aberto, e está disponível para download no site do projeto.\n",
        "\n",
        "<br>\n",
        "<br>\n",
        "\n",
        "A biblioteca **OS** para Python é uma coleção de funções que permitem aos programadores interagir com o sistema operacional. Essas funções podem ser usadas para realizar uma variedade de tarefas, como criar e manipular arquivos, interagir com o sistema de arquivos, controlar o sistema operacional e muito mais.\n",
        "\n",
        "É uma ferramenta poderosa que pode ser usada para criar uma variedade de programas. No entanto, é importante usar essa biblioteca com cuidado, pois ela pode interferir no sistema operacional.\n",
        "\n",
        "Aqui estão algumas das principais funcionalidades da biblioteca OS:\n",
        "\n",
        "* Criar e manipular arquivos: A biblioteca OS pode ser usada para criar novos arquivos, abrir arquivos existentes, ler e escrever dados em arquivos e fechar arquivos.\n",
        "* Interagir com o sistema de arquivos: A biblioteca OS pode ser usada para listar os arquivos em um diretório, navegar entre diretórios, criar novos diretórios e excluir diretórios.\n",
        "* Controlar o sistema operacional: A biblioteca OS pode ser usada para controlar o sistema operacional, por exemplo, para iniciar um novo processo, parar um processo existente e verificar o estado do sistema operacional.\n"
      ]
    },
    {
      "cell_type": "markdown",
      "source": [
        "<center><img width=\"40%\" src=\"https://images.hive.blog/DQmVGgeToFjpmq85FnwsDNQmn644EysojtZh92b1ZrZrrUs/pytonpdf.jpg\"></center>\n"
      ],
      "metadata": {
        "id": "QZsi6_oT4Sl7"
      }
    },
    {
      "cell_type": "markdown",
      "source": [
        "### Parte 01 - Instalação das bibliotecas e conexão com o Google Drive\n",
        "\n",
        "Inicialmente é necessário importar as bilbiotecas necessárias, como também os arquivos em PDF, salvos no Google Drive:\n",
        "\n",
        "\n"
      ],
      "metadata": {
        "id": "6jcc7-bBczfz"
      }
    },
    {
      "cell_type": "code",
      "source": [
        "# instalando o pdf plumber\n",
        "!pip install pdfplumber -q"
      ],
      "metadata": {
        "id": "yQPsznJXdTY2",
        "colab": {
          "base_uri": "https://localhost:8080/"
        },
        "outputId": "cd1e950e-59a2-4c2b-fa69-d97b28768a00"
      },
      "execution_count": 1,
      "outputs": [
        {
          "output_type": "stream",
          "name": "stdout",
          "text": [
            "\u001b[2K     \u001b[90m━━━━━━━━━━━━━━━━━━━━━━━━━━━━━━━━━━━━━━━\u001b[0m \u001b[32m47.5/47.5 kB\u001b[0m \u001b[31m451.8 kB/s\u001b[0m eta \u001b[36m0:00:00\u001b[0m\n",
            "\u001b[2K     \u001b[90m━━━━━━━━━━━━━━━━━━━━━━━━━━━━━━━━━━━━━━━━\u001b[0m \u001b[32m5.6/5.6 MB\u001b[0m \u001b[31m14.9 MB/s\u001b[0m eta \u001b[36m0:00:00\u001b[0m\n",
            "\u001b[2K     \u001b[90m━━━━━━━━━━━━━━━━━━━━━━━━━━━━━━━━━━━━━━━━\u001b[0m \u001b[32m2.9/2.9 MB\u001b[0m \u001b[31m27.6 MB/s\u001b[0m eta \u001b[36m0:00:00\u001b[0m\n",
            "\u001b[2K     \u001b[90m━━━━━━━━━━━━━━━━━━━━━━━━━━━━━━━━━━━━━━━━\u001b[0m \u001b[32m4.3/4.3 MB\u001b[0m \u001b[31m11.2 MB/s\u001b[0m eta \u001b[36m0:00:00\u001b[0m\n",
            "\u001b[?25h"
          ]
        }
      ]
    },
    {
      "cell_type": "code",
      "source": [
        "# importando os pacotes necessários\n",
        "from google.colab import drive\n",
        "import pdfplumber\n",
        "import os\n",
        "\n",
        "# montando o drive\n",
        "drive.mount ('/content/gdrive')"
      ],
      "metadata": {
        "colab": {
          "base_uri": "https://localhost:8080/"
        },
        "id": "ZocieIJ7FALb",
        "outputId": "3d5f54af-69cd-49df-8927-8684b91e858c"
      },
      "execution_count": 2,
      "outputs": [
        {
          "output_type": "stream",
          "name": "stdout",
          "text": [
            "Mounted at /content/gdrive\n"
          ]
        }
      ]
    },
    {
      "cell_type": "markdown",
      "source": [
        "Agora, com os pacotes já importados para o notebook e o Google Drive já conectado, preciso navegar até o diretório onde foram salvos os arquivos em PDF que irei usar."
      ],
      "metadata": {
        "id": "h1f1tznFIFtW"
      }
    },
    {
      "cell_type": "code",
      "source": [
        "# navegar para o diretório onde se encontram os arquivos\n",
        "os.chdir(\"/content/gdrive/MyDrive/Data Science na Prática/Bootcamp Python/Módulo 02/Projeto 2\")"
      ],
      "metadata": {
        "id": "MSwcvvh1Ibd_"
      },
      "execution_count": 3,
      "outputs": []
    },
    {
      "cell_type": "code",
      "source": [
        "# verificar se acessei o diretório corretamente\n",
        "os.getcwd()"
      ],
      "metadata": {
        "colab": {
          "base_uri": "https://localhost:8080/",
          "height": 35
        },
        "id": "MXOMYfPxIsvL",
        "outputId": "9a2de17c-926d-4cb0-e02e-fb52f3c5a0d4"
      },
      "execution_count": 4,
      "outputs": [
        {
          "output_type": "execute_result",
          "data": {
            "text/plain": [
              "'/content/gdrive/MyDrive/Data Science na Prática/Bootcamp Python/Módulo 02/Projeto 2'"
            ],
            "application/vnd.google.colaboratory.intrinsic+json": {
              "type": "string"
            }
          },
          "metadata": {},
          "execution_count": 4
        }
      ]
    },
    {
      "cell_type": "markdown",
      "source": [
        "Estou na pasta correta!\n",
        "Vou agora, verificar quais os arquivos que estão dentro da pasta, e criar uma variável chamada `arquivos_semana`para facilitar a manipulação destes."
      ],
      "metadata": {
        "id": "LHtNOrrlI1B5"
      }
    },
    {
      "cell_type": "code",
      "source": [
        "# listar os arquivos que estão dentro da pasta\n",
        "arq_sm = os.listdir()\n",
        "print(arq_sm)"
      ],
      "metadata": {
        "colab": {
          "base_uri": "https://localhost:8080/"
        },
        "id": "viDpwC2dI8ag",
        "outputId": "6f5e13dc-ed71-4aa9-c51b-104b18260ae6"
      },
      "execution_count": 5,
      "outputs": [
        {
          "output_type": "stream",
          "name": "stdout",
          "text": [
            "['20200801.pdf', '20200802.pdf', '20200803.pdf', '20200804.pdf', '20200805.pdf']\n"
          ]
        }
      ]
    },
    {
      "cell_type": "markdown",
      "source": [
        "<center><img width=\"5%\" src=\"https://logodownload.org/wp-content/uploads/2019/10/python-logo.png\"></center>\n"
      ],
      "metadata": {
        "id": "SYoepsoN5GWi"
      }
    },
    {
      "cell_type": "markdown",
      "source": [
        "### Parte 02 - Manipulação dos resultados\n",
        "\n",
        "\n",
        "Vou abrir um dos relatórios.pdf contidos na pasta para analisar sua forma. Utilizei o comando `open`no PDF Plumber."
      ],
      "metadata": {
        "id": "4P4j6WVneKir"
      }
    },
    {
      "cell_type": "code",
      "source": [
        "# abrir um relatório PDF\n",
        "relatorio = pdfplumber.open('/content/gdrive/MyDrive/Data Science na Prática/Bootcamp Python/Módulo 02/Projeto 2/20200801.pdf')"
      ],
      "metadata": {
        "id": "M3ErvB6qfZin"
      },
      "execution_count": 6,
      "outputs": []
    },
    {
      "cell_type": "code",
      "source": [
        "# verificar quantas páginas tem o arquivo\n",
        "relatorio.pages"
      ],
      "metadata": {
        "colab": {
          "base_uri": "https://localhost:8080/"
        },
        "id": "7VQv-4-2MgA_",
        "outputId": "26bba303-72db-415a-e444-ba318d8d1dc1"
      },
      "execution_count": 7,
      "outputs": [
        {
          "output_type": "execute_result",
          "data": {
            "text/plain": [
              "[<Page:1>]"
            ]
          },
          "metadata": {},
          "execution_count": 7
        }
      ]
    },
    {
      "cell_type": "markdown",
      "source": [
        "O relatório tem apenas 1 página."
      ],
      "metadata": {
        "id": "YyZVy2eZMm9C"
      }
    },
    {
      "cell_type": "code",
      "source": [
        "# abrir a primeira página do relatório\n",
        "pagina = relatorio.pages[0]"
      ],
      "metadata": {
        "id": "Y-FFqejTML0L"
      },
      "execution_count": 8,
      "outputs": []
    },
    {
      "cell_type": "code",
      "source": [
        "# extrair o texto da página do relatório\n",
        "texto = pagina.extract_text()\n",
        "print(texto)"
      ],
      "metadata": {
        "colab": {
          "base_uri": "https://localhost:8080/"
        },
        "id": "N20eTxB8Mtjx",
        "outputId": "ccfdb8d7-479f-4216-d5c0-c67a207e183c"
      },
      "execution_count": 9,
      "outputs": [
        {
          "output_type": "stream",
          "name": "stdout",
          "text": [
            "SIGMOIDAL\n",
            "Relatório Diário\n",
            "Data: 01/08/2020\n",
            "RECEITA: R$ 1297.00\n",
            "DADOS ATUALIZADOS POR CARLOS MELO\n",
            "Visitantes: 1367\n",
            "A quantidade de visitantes diz respeito a visitantes únicos visitando qualquer\n",
            "página do domínio ou subdomínio sigmoidal.ai. Compreende, então, cursos,\n",
            "blogs e landing pages.\n",
            "Inscritos: 33\n",
            "É considerado aqui o número de leads gerados por meio de cadastro\n",
            "voluntário nos formulários do cabeçalho, rodapé ou materiais ricos (como\n",
            "eBook, infográficos, entre outros).\n",
            "Assinantes: 6\n",
            "Clientes assinantes da Escola de Data Science, considerando-se o plano\n",
            "renovável de assinatura mensal.\n"
          ]
        }
      ]
    },
    {
      "cell_type": "code",
      "source": [
        "type(texto)"
      ],
      "metadata": {
        "colab": {
          "base_uri": "https://localhost:8080/"
        },
        "id": "rKvg6NJfNJ5P",
        "outputId": "d0c7e943-45ca-4464-b842-710b4e8acfac"
      },
      "execution_count": 10,
      "outputs": [
        {
          "output_type": "execute_result",
          "data": {
            "text/plain": [
              "str"
            ]
          },
          "metadata": {},
          "execution_count": 10
        }
      ]
    },
    {
      "cell_type": "markdown",
      "source": [
        "O texto extraído está no formato desejado (string), porém a formatação não. Em Python, os dados são interpretados como caracteres, portanto, temos que ter gerar uma visualização diferente para o texto ser manipulado."
      ],
      "metadata": {
        "id": "IM2fl1QDNPuu"
      }
    },
    {
      "cell_type": "markdown",
      "source": [
        "<center><img width=\"5%\" src=\"https://logodownload.org/wp-content/uploads/2019/10/python-logo.png\"></center>"
      ],
      "metadata": {
        "id": "XygGXUjh5LKE"
      }
    },
    {
      "cell_type": "markdown",
      "source": [
        "### Parte 03 - Strings em Python\n",
        "\n",
        "Para manipular o texto em Python, o mesmo deve conter todos os símbolos que representam os espaços `\\t`e quebras de linhas `\\n`.\n"
      ],
      "metadata": {
        "id": "zZXmjG9OoB8U"
      }
    },
    {
      "cell_type": "code",
      "source": [
        "# texto interpretado em Python\n",
        "texto"
      ],
      "metadata": {
        "colab": {
          "base_uri": "https://localhost:8080/",
          "height": 87
        },
        "id": "Tt_PXB9-hu87",
        "outputId": "34bc1e70-40c6-4a99-9f64-56916b6115e6"
      },
      "execution_count": 11,
      "outputs": [
        {
          "output_type": "execute_result",
          "data": {
            "text/plain": [
              "'SIGMOIDAL\\nRelatório Diário\\nData: 01/08/2020\\nRECEITA: R$ 1297.00\\nDADOS ATUALIZADOS POR CARLOS MELO\\nVisitantes: 1367\\nA quantidade de visitantes diz respeito a visitantes únicos visitando qualquer\\npágina do domínio ou subdomínio sigmoidal.ai. Compreende, então, cursos,\\nblogs e landing pages.\\nInscritos: 33\\nÉ considerado aqui o número de leads gerados por meio de cadastro\\nvoluntário nos formulários do cabeçalho, rodapé ou materiais ricos (como\\neBook, infográficos, entre outros).\\nAssinantes: 6\\nClientes assinantes da Escola de Data Science, considerando-se o plano\\nrenovável de assinatura mensal.'"
            ],
            "application/vnd.google.colaboratory.intrinsic+json": {
              "type": "string"
            }
          },
          "metadata": {},
          "execution_count": 11
        }
      ]
    },
    {
      "cell_type": "markdown",
      "source": [
        "#### Separação do texto **(Split)**\n",
        "####Remover tabulações e espaços **(Replace)**"
      ],
      "metadata": {
        "id": "RrpV9rzmiOVI"
      }
    },
    {
      "cell_type": "markdown",
      "source": [
        "Vou dividir o texto em linhas, tendo como região de corte a quebra de linha `\\n`"
      ],
      "metadata": {
        "id": "i3LZFEZEirVw"
      }
    },
    {
      "cell_type": "code",
      "source": [
        "# dividir o texto em linhas\n",
        "texto.split (\"\\n\")"
      ],
      "metadata": {
        "colab": {
          "base_uri": "https://localhost:8080/"
        },
        "id": "zpm0OJnuikxM",
        "outputId": "615de102-1f54-4f96-f875-ce02914a12af"
      },
      "execution_count": 12,
      "outputs": [
        {
          "output_type": "execute_result",
          "data": {
            "text/plain": [
              "['SIGMOIDAL',\n",
              " 'Relatório Diário',\n",
              " 'Data: 01/08/2020',\n",
              " 'RECEITA: R$ 1297.00',\n",
              " 'DADOS ATUALIZADOS POR CARLOS MELO',\n",
              " 'Visitantes: 1367',\n",
              " 'A quantidade de visitantes diz respeito a visitantes únicos visitando qualquer',\n",
              " 'página do domínio ou subdomínio sigmoidal.ai. Compreende, então, cursos,',\n",
              " 'blogs e landing pages.',\n",
              " 'Inscritos: 33',\n",
              " 'É considerado aqui o número de leads gerados por meio de cadastro',\n",
              " 'voluntário nos formulários do cabeçalho, rodapé ou materiais ricos (como',\n",
              " 'eBook, infográficos, entre outros).',\n",
              " 'Assinantes: 6',\n",
              " 'Clientes assinantes da Escola de Data Science, considerando-se o plano',\n",
              " 'renovável de assinatura mensal.']"
            ]
          },
          "metadata": {},
          "execution_count": 12
        }
      ]
    },
    {
      "cell_type": "markdown",
      "source": [
        "A informação que estou buscando nesse relatório é a **Receita** obtida no período. Essa informação é encontrada na linha **4** do texto. Portanto, utilizando o comando `split`, vou isolar essa linha. Lembrando que, iniciamos a contagem em **zero**. Em seguida, vou isolar a informação numérica, ou seja, o valor da receita de fato e por último, tranformar o dado de `string`para `float`"
      ],
      "metadata": {
        "id": "U5Og6lFJjKld"
      }
    },
    {
      "cell_type": "code",
      "source": [
        "# isolar a informação pretendida\n",
        "texto.split (\"\\n\")[3]"
      ],
      "metadata": {
        "colab": {
          "base_uri": "https://localhost:8080/",
          "height": 35
        },
        "id": "pHV5L5vtjtmQ",
        "outputId": "f0bbc479-eaa5-4c5e-f44b-04b7248237bc"
      },
      "execution_count": 13,
      "outputs": [
        {
          "output_type": "execute_result",
          "data": {
            "text/plain": [
              "'RECEITA: R$ 1297.00'"
            ],
            "application/vnd.google.colaboratory.intrinsic+json": {
              "type": "string"
            }
          },
          "metadata": {},
          "execution_count": 13
        }
      ]
    },
    {
      "cell_type": "code",
      "source": [
        "# retirar tabulações\n",
        "texto.split (\"\\n\")[3].replace(\"\\t\", \"\")"
      ],
      "metadata": {
        "colab": {
          "base_uri": "https://localhost:8080/",
          "height": 35
        },
        "id": "vah8picvkihE",
        "outputId": "0635ebf7-7e2f-4dea-c84e-1b6e1a42bd9f"
      },
      "execution_count": 14,
      "outputs": [
        {
          "output_type": "execute_result",
          "data": {
            "text/plain": [
              "'RECEITA: R$ 1297.00'"
            ],
            "application/vnd.google.colaboratory.intrinsic+json": {
              "type": "string"
            }
          },
          "metadata": {},
          "execution_count": 14
        }
      ]
    },
    {
      "cell_type": "code",
      "source": [
        "# Separação do símbolo de R$\n",
        "texto.split (\"\\n\")[3].replace(\"\\t\", \"\").split(\"R$\")"
      ],
      "metadata": {
        "colab": {
          "base_uri": "https://localhost:8080/"
        },
        "id": "VD_XLqpHlF4A",
        "outputId": "dd463c15-7543-4d89-8180-c1eef98e0ed9"
      },
      "execution_count": 15,
      "outputs": [
        {
          "output_type": "execute_result",
          "data": {
            "text/plain": [
              "['RECEITA: ', ' 1297.00']"
            ]
          },
          "metadata": {},
          "execution_count": 15
        }
      ]
    },
    {
      "cell_type": "code",
      "source": [
        "# Isolamento do número\n",
        "numero = texto.split (\"\\n\")[3].replace(\"\\t\", \"\").split(\"R$\")[1]\n",
        "print (numero)"
      ],
      "metadata": {
        "colab": {
          "base_uri": "https://localhost:8080/"
        },
        "id": "Cy_uhi4YnwMT",
        "outputId": "fe131459-ff7f-4446-ee7e-6f0dde3d027a"
      },
      "execution_count": 16,
      "outputs": [
        {
          "output_type": "stream",
          "name": "stdout",
          "text": [
            " 1297.00\n"
          ]
        }
      ]
    },
    {
      "cell_type": "code",
      "source": [
        "type(numero)"
      ],
      "metadata": {
        "colab": {
          "base_uri": "https://localhost:8080/"
        },
        "id": "XW1DIbuQn6pt",
        "outputId": "ad96a5be-8263-4816-deec-7f6d4265498d"
      },
      "execution_count": 17,
      "outputs": [
        {
          "output_type": "execute_result",
          "data": {
            "text/plain": [
              "str"
            ]
          },
          "metadata": {},
          "execution_count": 17
        }
      ]
    },
    {
      "cell_type": "code",
      "source": [
        "# converter a string em float\n",
        "float(numero)"
      ],
      "metadata": {
        "colab": {
          "base_uri": "https://localhost:8080/"
        },
        "id": "GM_ltrlskifV",
        "outputId": "9627fa3a-5f18-455a-c4e2-f984d6df4686"
      },
      "execution_count": 18,
      "outputs": [
        {
          "output_type": "execute_result",
          "data": {
            "text/plain": [
              "1297.0"
            ]
          },
          "metadata": {},
          "execution_count": 18
        }
      ]
    },
    {
      "cell_type": "code",
      "source": [
        "# valor da receita do relatório escolhido\n",
        "print(\"Valor do primeiro relatório:\", numero)\n"
      ],
      "metadata": {
        "colab": {
          "base_uri": "https://localhost:8080/"
        },
        "id": "JwBVHagNp75k",
        "outputId": "ae10098a-6577-47dd-c7f6-3003a9f3dbab"
      },
      "execution_count": 19,
      "outputs": [
        {
          "output_type": "stream",
          "name": "stdout",
          "text": [
            "Valor do primeiro relatório:  1297.00\n"
          ]
        }
      ]
    },
    {
      "cell_type": "markdown",
      "source": [
        "<center><img width=\"5%\" src=\"https://logodownload.org/wp-content/uploads/2019/10/python-logo.png\"></center>\n"
      ],
      "metadata": {
        "id": "Fvjf53qn5NYY"
      }
    },
    {
      "cell_type": "markdown",
      "source": [
        "### Parte 04 - Automação - Soma do valor de receita de todos os relatórios\n",
        "\n",
        "Para que eu não tenha ue fazer esse passo a para todos os relatórios, vou aplicar uma função que irá autotizar todo o processo e ao final, exibirá a soma da receita de todos os relatórios.\n"
      ],
      "metadata": {
        "id": "m_vBRRUJzD-P"
      }
    },
    {
      "cell_type": "code",
      "source": [
        "# teste da função\n",
        "soma_teste = 0\n",
        "\n",
        "for letra in [1, 10, 34, 99]:\n",
        "    soma_teste = soma_teste + letra\n",
        "    print(soma_teste)"
      ],
      "metadata": {
        "colab": {
          "base_uri": "https://localhost:8080/"
        },
        "id": "EhnoD3BsqT2m",
        "outputId": "54d29c8e-d45f-4cdc-d640-dfe4ffde87bb"
      },
      "execution_count": 20,
      "outputs": [
        {
          "output_type": "stream",
          "name": "stdout",
          "text": [
            "1\n",
            "11\n",
            "45\n",
            "144\n"
          ]
        }
      ]
    },
    {
      "cell_type": "code",
      "source": [
        "soma = 0"
      ],
      "metadata": {
        "id": "n4Eck3xfricV"
      },
      "execution_count": 21,
      "outputs": []
    },
    {
      "cell_type": "code",
      "source": [
        "# criando a função\n",
        "\n",
        "for arquivo in arq_sm:\n",
        "    relatorio = pdfplumber.open(arquivo)\n",
        "    pagina = relatorio.pages[0]\n",
        "    texto = pagina.extract_text()\n",
        "    valor = texto.split(\"\\n\")[3].replace(\"\\t\", \"\").split(\"R$\")[1]\n",
        "    valor = float(valor)\n",
        "    soma = soma + valor\n",
        "    print(arquivo, \"--->\", valor)"
      ],
      "metadata": {
        "colab": {
          "base_uri": "https://localhost:8080/"
        },
        "id": "sgA5kA3FqfQi",
        "outputId": "f918eb2c-0590-4986-dae6-e7eaeaba08bb"
      },
      "execution_count": 22,
      "outputs": [
        {
          "output_type": "stream",
          "name": "stdout",
          "text": [
            "20200801.pdf ---> 1297.0\n",
            "20200802.pdf ---> 537.0\n",
            "20200803.pdf ---> 554.0\n",
            "20200804.pdf ---> 2554.0\n",
            "20200805.pdf ---> 154.0\n"
          ]
        }
      ]
    },
    {
      "cell_type": "markdown",
      "source": [
        "#### Soma dos valores de Receita dos 5 relatórios"
      ],
      "metadata": {
        "id": "Tv9q3KaVtJQS"
      }
    },
    {
      "cell_type": "code",
      "source": [
        "#soma total\n",
        "print('Receita dos Últimos 5 dias: R$',soma)"
      ],
      "metadata": {
        "colab": {
          "base_uri": "https://localhost:8080/"
        },
        "id": "r__g51WDtQ83",
        "outputId": "baea8c63-4644-42c5-bfc9-0446373a95f8"
      },
      "execution_count": 23,
      "outputs": [
        {
          "output_type": "stream",
          "name": "stdout",
          "text": [
            "Receita dos Últimos 5 dias: R$ 5096.0\n"
          ]
        }
      ]
    },
    {
      "cell_type": "markdown",
      "source": [
        "<center><img width=\"5%\" src=\"https://logodownload.org/wp-content/uploads/2019/10/python-logo.png\"></center>\n"
      ],
      "metadata": {
        "id": "tHZudvNH5P4Z"
      }
    }
  ],
  "metadata": {
    "colab": {
      "provenance": [],
      "include_colab_link": true
    },
    "kernelspec": {
      "display_name": "Python 3",
      "name": "python3"
    },
    "language_info": {
      "name": "python"
    }
  },
  "nbformat": 4,
  "nbformat_minor": 0
}